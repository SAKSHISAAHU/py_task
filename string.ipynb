{
 "cells": [
  {
   "cell_type": "code",
   "execution_count": null,
   "id": "d2afa78d",
   "metadata": {},
   "outputs": [
    {
     "data": {
      "text/plain": [
       "'ihskas'"
      ]
     },
     "execution_count": 1,
     "metadata": {},
     "output_type": "execute_result"
    }
   ],
   "source": [
    "# Q1. Write a function that takes a string and returns it reversed.\n",
    "n=\"sakshi\"\n",
    "n[ : :-1]"
   ]
  },
  {
   "cell_type": "code",
   "execution_count": 2,
   "id": "0e8db9ff",
   "metadata": {},
   "outputs": [
    {
     "name": "stdout",
     "output_type": "stream",
     "text": [
      "madam is a palindrome\n"
     ]
    }
   ],
   "source": [
    "# Q2. Check if a string is a palindrome using string slicing.\n",
    "a=\"madam\"\n",
    "a[::-1]\n",
    "print(a, \"is a palindrome\")"
   ]
  },
  {
   "cell_type": "code",
   "execution_count": null,
   "id": "146d7d35",
   "metadata": {},
   "outputs": [
    {
     "data": {
      "text/plain": [
       "<function str.split(sep=None, maxsplit=-1)>"
      ]
     },
     "execution_count": 1,
     "metadata": {},
     "output_type": "execute_result"
    }
   ],
   "source": [
    "# Q3. Replace all spaces \" \" in a string with underscores \"_\".\n",
    "s=\" sak_shi \"\n",
    "s.split"
   ]
  }
 ],
 "metadata": {
  "kernelspec": {
   "display_name": "Python 3",
   "language": "python",
   "name": "python3"
  },
  "language_info": {
   "codemirror_mode": {
    "name": "ipython",
    "version": 3
   },
   "file_extension": ".py",
   "mimetype": "text/x-python",
   "name": "python",
   "nbconvert_exporter": "python",
   "pygments_lexer": "ipython3",
   "version": "3.10.16"
  }
 },
 "nbformat": 4,
 "nbformat_minor": 5
}
