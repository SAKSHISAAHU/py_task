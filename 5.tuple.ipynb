{
 "cells": [
  {
   "cell_type": "code",
   "execution_count": null,
   "id": "fa8c2433",
   "metadata": {},
   "outputs": [
    {
     "data": {
      "text/plain": [
       "True"
      ]
     },
     "execution_count": 1,
     "metadata": {},
     "output_type": "execute_result"
    }
   ],
   "source": [
    "# Q1. Print the third element from a tuple.\n",
    "t1=(1,\"sam\",10.4,True)\n",
    "t1[3]"
   ]
  },
  {
   "cell_type": "code",
   "execution_count": 2,
   "id": "fa96b47e",
   "metadata": {},
   "outputs": [
    {
     "data": {
      "text/plain": [
       "(10.4, True, [1, 2, 3])"
      ]
     },
     "execution_count": 2,
     "metadata": {},
     "output_type": "execute_result"
    }
   ],
   "source": [
    "# Q2. Print the last three elements of the tuple.\n",
    "t2=(1,\"sam\",10.4,True,[1,2,3])\n",
    "t2[2:5]"
   ]
  },
  {
   "cell_type": "code",
   "execution_count": 3,
   "id": "81a7edd7",
   "metadata": {},
   "outputs": [
    {
     "data": {
      "text/plain": [
       "(1, 2, 3, 4)"
      ]
     },
     "execution_count": 3,
     "metadata": {},
     "output_type": "execute_result"
    }
   ],
   "source": [
    "# Q3. Join two tuples together.\n",
    "t3=(1,2)\n",
    "t4=(3,4)\n",
    "t3+t4"
   ]
  },
  {
   "cell_type": "code",
   "execution_count": 4,
   "id": "f978fcd1",
   "metadata": {},
   "outputs": [
    {
     "name": "stdout",
     "output_type": "stream",
     "text": [
      "(1, 2, 3, 1, 2, 3, 1, 2, 3)\n"
     ]
    }
   ],
   "source": [
    "# Q4. Repeat a tuple three times.\n",
    "t5=(1,2,3)\n",
    "print(t5*3)"
   ]
  },
  {
   "cell_type": "code",
   "execution_count": 5,
   "id": "f48cd813",
   "metadata": {},
   "outputs": [
    {
     "data": {
      "text/plain": [
       "1"
      ]
     },
     "execution_count": 5,
     "metadata": {},
     "output_type": "execute_result"
    }
   ],
   "source": [
    "# Q5. Check if 15 is present in the tuple.\n",
    "t6=(2,55,10,19,15)\n",
    "t6.count(15)"
   ]
  },
  {
   "cell_type": "code",
   "execution_count": 6,
   "id": "5ac1e3a7",
   "metadata": {},
   "outputs": [
    {
     "data": {
      "text/plain": [
       "5"
      ]
     },
     "execution_count": 6,
     "metadata": {},
     "output_type": "execute_result"
    }
   ],
   "source": [
    "# Q6. Find how many elements are in the tuple.\n",
    "t7=(1,\"sam\",10.4,True,[1,2,3])\n",
    "len(t7)"
   ]
  },
  {
   "cell_type": "code",
   "execution_count": 7,
   "id": "61e8ee73",
   "metadata": {},
   "outputs": [
    {
     "data": {
      "text/plain": [
       "1"
      ]
     },
     "execution_count": 7,
     "metadata": {},
     "output_type": "execute_result"
    }
   ],
   "source": [
    "# Q7. Find the index of 50 in the tuple.\n",
    "t8=(2,50,10,19,15)\n",
    "t8.index(50)"
   ]
  },
  {
   "cell_type": "code",
   "execution_count": 8,
   "id": "6fada2da",
   "metadata": {},
   "outputs": [
    {
     "data": {
      "text/plain": [
       "3"
      ]
     },
     "execution_count": 8,
     "metadata": {},
     "output_type": "execute_result"
    }
   ],
   "source": [
    "# Q8. Count how many times 2 appears.\n",
    "t9=(2,50,10,2,19,15,2)\n",
    "t9.count(2)"
   ]
  },
  {
   "cell_type": "code",
   "execution_count": 29,
   "id": "6f3d071f",
   "metadata": {},
   "outputs": [
    {
     "name": "stdout",
     "output_type": "stream",
     "text": [
      "(15, 50, 10, 19, 2)\n"
     ]
    }
   ],
   "source": [
    "# Q9. Swap first and last elements of a tuple.\n",
    "t1=(2,50,10,19,15)\n",
    "# t2 = t1[-1] + t1[1:-1] + t1[0]  will not work int tuple int concatination is not possible so in order to concate we need to make int as tuple.\n",
    "t2=(t1[-1],)+t1[1:-1]+(t1[0],)\n",
    "print(t2)"
   ]
  },
  {
   "cell_type": "code",
   "execution_count": null,
   "id": "ae49c25a",
   "metadata": {},
   "outputs": [
    {
     "data": {
      "text/plain": [
       "(15, 19, 10, 50, 2)"
      ]
     },
     "execution_count": 18,
     "metadata": {},
     "output_type": "execute_result"
    }
   ],
   "source": [
    "# Q10.Reverse all elements.\n",
    "t=(2,50,10,19,15)\n",
    "t[-1:-6:-1]"
   ]
  },
  {
   "cell_type": "code",
   "execution_count": 28,
   "id": "e06a7258",
   "metadata": {},
   "outputs": [
    {
     "data": {
      "text/plain": [
       "50"
      ]
     },
     "execution_count": 28,
     "metadata": {},
     "output_type": "execute_result"
    }
   ],
   "source": [
    "# Q11. Find the maximum value without converting to a list.\n",
    "t=(2,50,10,19,15)\n",
    "max(t)"
   ]
  },
  {
   "cell_type": "code",
   "execution_count": null,
   "id": "a85c38af",
   "metadata": {},
   "outputs": [
    {
     "data": {
      "text/plain": [
       "2"
      ]
     },
     "execution_count": 24,
     "metadata": {},
     "output_type": "execute_result"
    }
   ],
   "source": [
    "# Q12. Find the minimum value without converting to a list.\n",
    "t=(2,50,10,19,15)\n",
    "min(t)"
   ]
  },
  {
   "cell_type": "code",
   "execution_count": null,
   "id": "009504a1",
   "metadata": {},
   "outputs": [
    {
     "name": "stdout",
     "output_type": "stream",
     "text": [
      "(1,)\n"
     ]
    },
    {
     "data": {
      "text/plain": [
       "tuple"
      ]
     },
     "execution_count": 26,
     "metadata": {},
     "output_type": "execute_result"
    }
   ],
   "source": [
    "# Q13. Create a tuple with one element.\n",
    "t=(1,)\n",
    "print(t)\n",
    "type(t)"
   ]
  },
  {
   "cell_type": "code",
   "execution_count": null,
   "id": "7a37342a",
   "metadata": {},
   "outputs": [
    {
     "name": "stdout",
     "output_type": "stream",
     "text": [
      "100 200 300\n"
     ]
    }
   ],
   "source": [
    "# Q14. Assign each element of a tuple to different variables. \n",
    "t = (100, 200, 300)\n",
    "a=t[0]\n",
    "b=t[1]\n",
    "c=t[2]\n",
    "print(a,b,c)"
   ]
  },
  {
   "cell_type": "code",
   "execution_count": 31,
   "id": "6a57917c",
   "metadata": {},
   "outputs": [
    {
     "data": {
      "text/plain": [
       "(20, 40, 60)"
      ]
     },
     "execution_count": 31,
     "metadata": {},
     "output_type": "execute_result"
    }
   ],
   "source": [
    "# Q15. Get every second element from the tuple.\n",
    "t=(10, 20, 30, 40, 50, 60)\n",
    "t[1:7:2]"
   ]
  },
  {
   "cell_type": "code",
   "execution_count": 34,
   "id": "e0f3bcd2",
   "metadata": {},
   "outputs": [
    {
     "name": "stdout",
     "output_type": "stream",
     "text": [
      "9\n",
      "1\n"
     ]
    }
   ],
   "source": [
    "# Q16. Find Maximum and Minimum Element\n",
    "t=(4, 6, 2, 9, 1)\n",
    "print(max(t))\n",
    "print(min(t))"
   ]
  },
  {
   "cell_type": "code",
   "execution_count": 36,
   "id": "07490035",
   "metadata": {},
   "outputs": [
    {
     "name": "stdout",
     "output_type": "stream",
     "text": [
      "(99, 8, 7)\n"
     ]
    }
   ],
   "source": [
    "# Q17. Replace First Element by 99 creating new tuple.\n",
    "t = (9,8,7)\n",
    "new= (99,)+t[1:]\n",
    "print(new)"
   ]
  },
  {
   "cell_type": "code",
   "execution_count": 37,
   "id": "65b28bcd",
   "metadata": {},
   "outputs": [
    {
     "name": "stdout",
     "output_type": "stream",
     "text": [
      "(1, 2, 99, 4, 5)\n"
     ]
    }
   ],
   "source": [
    "# Q18. Join Two Tuples a & b with a Value x in Between. a = 1,2 · b = 4,5 · x=9\n",
    "t = (1,2,) + (99,) + (4,5,)\n",
    "print(t)"
   ]
  },
  {
   "cell_type": "code",
   "execution_count": 38,
   "id": "a95f37fd",
   "metadata": {},
   "outputs": [
    {
     "data": {
      "text/plain": [
       "2"
      ]
     },
     "execution_count": 38,
     "metadata": {},
     "output_type": "execute_result"
    }
   ],
   "source": [
    "# Q19. Find the index of 15.\n",
    "t = (5,10,15,20)\n",
    "t.index(15)"
   ]
  },
  {
   "cell_type": "code",
   "execution_count": 39,
   "id": "599cd3f6",
   "metadata": {},
   "outputs": [
    {
     "data": {
      "text/plain": [
       "0"
      ]
     },
     "execution_count": 39,
     "metadata": {},
     "output_type": "execute_result"
    }
   ],
   "source": [
    "# Q20. Count how many times 2 appears.\n",
    "t = (1, 3, 5, 7)\n",
    "t.count(2)"
   ]
  },
  {
   "cell_type": "code",
   "execution_count": 40,
   "id": "a2258610",
   "metadata": {},
   "outputs": [
    {
     "data": {
      "text/plain": [
       "5"
      ]
     },
     "execution_count": 40,
     "metadata": {},
     "output_type": "execute_result"
    }
   ],
   "source": [
    "# Q21. Find index of 11 \n",
    "t = (1,3,5,7,9,11,13,15)\n",
    "t.index(11)\n"
   ]
  },
  {
   "cell_type": "code",
   "execution_count": 41,
   "id": "9709a8c5",
   "metadata": {},
   "outputs": [
    {
     "data": {
      "text/plain": [
       "4"
      ]
     },
     "execution_count": 41,
     "metadata": {},
     "output_type": "execute_result"
    }
   ],
   "source": [
    "# Q22. Access the number 4,\n",
    "t = ((1,2),(3,4))\n",
    "t[1][1]"
   ]
  },
  {
   "cell_type": "code",
   "execution_count": 42,
   "id": "b619655b",
   "metadata": {},
   "outputs": [
    {
     "name": "stdout",
     "output_type": "stream",
     "text": [
      "(10, 20, 30, 60, 99)\n"
     ]
    }
   ],
   "source": [
    "# Q23. To a tuple of list add 99. \n",
    "input = (10,20,30,60)\n",
    "new= input + (99,)\n",
    "print(new)"
   ]
  },
  {
   "cell_type": "code",
   "execution_count": 53,
   "id": "5a5514d8",
   "metadata": {},
   "outputs": [
    {
     "name": "stdout",
     "output_type": "stream",
     "text": [
      "c\n"
     ]
    }
   ],
   "source": [
    "# Q24. Access Char \"c\" from Nested Tuple of Strings\n",
    "t = (\"dog\", \"cat\")\n",
    "char = t[1][0]\n",
    "print(char)"
   ]
  },
  {
   "cell_type": "code",
   "execution_count": 54,
   "id": "2afa48fe",
   "metadata": {},
   "outputs": [
    {
     "data": {
      "text/plain": [
       "(20, 30, 40)"
      ]
     },
     "execution_count": 54,
     "metadata": {},
     "output_type": "execute_result"
    }
   ],
   "source": [
    "# Q25. From (10, 20, 30, 40, 50), get (20, 30, 40).\n",
    "t=(10,20,30,40,50)\n",
    "t[1:4]"
   ]
  },
  {
   "cell_type": "code",
   "execution_count": 55,
   "id": "c00c954e",
   "metadata": {},
   "outputs": [
    {
     "data": {
      "text/plain": [
       "9"
      ]
     },
     "execution_count": 55,
     "metadata": {},
     "output_type": "execute_result"
    }
   ],
   "source": [
    "# Q26. Access Last Value 9 from the Nested Tuple \n",
    "t = ((5,6),(7,8,9))\n",
    "t[1][-1]"
   ]
  },
  {
   "cell_type": "code",
   "execution_count": 57,
   "id": "ac87edba",
   "metadata": {},
   "outputs": [
    {
     "data": {
      "text/plain": [
       "(1, 2, 3, 4, 5, 6, 7, 8)"
      ]
     },
     "execution_count": 57,
     "metadata": {},
     "output_type": "execute_result"
    }
   ],
   "source": [
    "# Q27. Sort elements from the tuple \n",
    "t=(3,5,8,2,7,1,6,4)\n",
    "tuple(sorted(t))"
   ]
  },
  {
   "cell_type": "code",
   "execution_count": 58,
   "id": "13ce3dfa",
   "metadata": {},
   "outputs": [
    {
     "data": {
      "text/plain": [
       "(90, 30, 60, 20, 10)"
      ]
     },
     "execution_count": 58,
     "metadata": {},
     "output_type": "execute_result"
    }
   ],
   "source": [
    "# Q28. Reverse a tuple \n",
    "t=(10,20,60,30,90)\n",
    "t[-1::-1]\n"
   ]
  },
  {
   "cell_type": "code",
   "execution_count": 63,
   "id": "fbfec8a2",
   "metadata": {},
   "outputs": [
    {
     "data": {
      "text/plain": [
       "(1, 2, 4)"
      ]
     },
     "execution_count": 63,
     "metadata": {},
     "output_type": "execute_result"
    }
   ],
   "source": [
    "# Q29. Extract first 3 numbers from the tuple \n",
    "t=(1,2,4,4,5,6,7)\n",
    "t[0:3]"
   ]
  },
  {
   "cell_type": "code",
   "execution_count": 64,
   "id": "753a6de1",
   "metadata": {},
   "outputs": [
    {
     "data": {
      "text/plain": [
       "30"
      ]
     },
     "execution_count": 64,
     "metadata": {},
     "output_type": "execute_result"
    }
   ],
   "source": [
    "# Q30. Get the third element from the tuple\n",
    "t=(10,20,30,60,40,70)\n",
    "t[2]"
   ]
  }
 ],
 "metadata": {
  "kernelspec": {
   "display_name": "Python 3",
   "language": "python",
   "name": "python3"
  },
  "language_info": {
   "codemirror_mode": {
    "name": "ipython",
    "version": 3
   },
   "file_extension": ".py",
   "mimetype": "text/x-python",
   "name": "python",
   "nbconvert_exporter": "python",
   "pygments_lexer": "ipython3",
   "version": "3.10.16"
  }
 },
 "nbformat": 4,
 "nbformat_minor": 5
}
