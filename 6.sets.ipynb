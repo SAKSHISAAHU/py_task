{
 "cells": [
  {
   "cell_type": "code",
   "execution_count": 2,
   "id": "964d5e2b",
   "metadata": {},
   "outputs": [
    {
     "name": "stdout",
     "output_type": "stream",
     "text": [
      "{1, 2, 3, 4}\n"
     ]
    }
   ],
   "source": [
    "# Q1. Create an empty set and add multiple values to it?\n",
    "s1=set()\n",
    "s1.update([1,2,3,4])\n",
    "print(s1)"
   ]
  },
  {
   "cell_type": "code",
   "execution_count": 7,
   "id": "65a81689",
   "metadata": {},
   "outputs": [
    {
     "name": "stdout",
     "output_type": "stream",
     "text": [
      "{1, 2, 4, 5}\n"
     ]
    }
   ],
   "source": [
    "# Q2. Write a Python program to delete value 3 from the set {1,2,3,4,5}?\n",
    "\n",
    "s={1,2,3,4,5}\n",
    "s.remove(3)\n",
    "print(s)"
   ]
  },
  {
   "cell_type": "code",
   "execution_count": 5,
   "id": "8b7196b9",
   "metadata": {},
   "outputs": [
    {
     "name": "stdout",
     "output_type": "stream",
     "text": [
      "{1, 2, 3, 4, 5, 6, 7, 8}\n"
     ]
    }
   ],
   "source": [
    "# Q3. Write a Python program to check the union of two sets: {1,2,3,4,5} and {4,5,6,7,8}?\n",
    "\n",
    "a={1,2,3,4,5}\n",
    "b={4,5,6,7,8}\n",
    "c=a.union(b)\n",
    "print(c)"
   ]
  },
  {
   "cell_type": "code",
   "execution_count": 6,
   "id": "6847711b",
   "metadata": {},
   "outputs": [
    {
     "name": "stdout",
     "output_type": "stream",
     "text": [
      "{1, 2, 3, 6, 7, 8}\n"
     ]
    }
   ],
   "source": [
    "# Q3. Write a Python program to check the union of two sets: {1,2,3,4,5} and {4,5,6,7,8}?\n",
    "a={1,2,3,4,5}\n",
    "b={4,5,6,7,8}\n",
    "c=a.symmetric_difference(b)\n",
    "print(c)"
   ]
  },
  {
   "cell_type": "code",
   "execution_count": 9,
   "id": "72563369",
   "metadata": {},
   "outputs": [
    {
     "name": "stdout",
     "output_type": "stream",
     "text": [
      "{1, 2, 3, 4, 5}\n"
     ]
    }
   ],
   "source": [
    "# Q5. Write a Python program to remove the number 7 from the set {1, 2, 3, 4, 5}, without causing an error if 7 is not present?\n",
    "\n",
    "s={1,2,3,4,5}\n",
    "s.discard(7)\n",
    "print(s)"
   ]
  },
  {
   "cell_type": "code",
   "execution_count": null,
   "id": "68b8694d",
   "metadata": {},
   "outputs": [
    {
     "data": {
      "text/plain": [
       "False"
      ]
     },
     "execution_count": 11,
     "metadata": {},
     "output_type": "execute_result"
    }
   ],
   "source": [
    "# Q6. Write a Python program to check if the set {1, 2} is a superset of the set {1, 2, 3, 4}?\n",
    "\n",
    "a={1,2}\n",
    "b={1,2,3,4}\n",
    "a.issuperset(b)"
   ]
  },
  {
   "cell_type": "code",
   "execution_count": 13,
   "id": "11619acb",
   "metadata": {},
   "outputs": [
    {
     "name": "stdout",
     "output_type": "stream",
     "text": [
      "{1, 2}\n",
      "{5, 6}\n"
     ]
    }
   ],
   "source": [
    "# Q7. Write a Python program to find the difference between two sets: {1, 2, 3, 4} and {3, 4, 5, 6}?\n",
    "a={1,2,3,4}\n",
    "b={3,4,5,6}\n",
    "print(a.difference(b))\n",
    "print(b.difference(a))"
   ]
  },
  {
   "cell_type": "code",
   "execution_count": 14,
   "id": "44225a24",
   "metadata": {},
   "outputs": [
    {
     "data": {
      "text/plain": [
       "{3}"
      ]
     },
     "execution_count": 14,
     "metadata": {},
     "output_type": "execute_result"
    }
   ],
   "source": [
    "# Q8. Write a Python program to find the intersection of two sets: {1, 2, 3} and {3, 4, 5}?\n",
    "\n",
    "a={1,2,3}\n",
    "b={3,4,5}\n",
    "a.intersection(b)"
   ]
  },
  {
   "cell_type": "code",
   "execution_count": 15,
   "id": "4b2c9095",
   "metadata": {},
   "outputs": [
    {
     "data": {
      "text/plain": [
       "8"
      ]
     },
     "execution_count": 15,
     "metadata": {},
     "output_type": "execute_result"
    }
   ],
   "source": [
    "# Q9. Write a Python program to find the length of the set {1, 2, 3, 4, 5,1,2,5,4,6,7,8}?\n",
    "s={1, 2, 3, 4, 5,1,2,5,4,6,7,8}\n",
    "len(s)"
   ]
  },
  {
   "cell_type": "code",
   "execution_count": null,
   "id": "a20646ff",
   "metadata": {},
   "outputs": [
    {
     "data": {
      "text/plain": [
       "{1, 2, 3}"
      ]
     },
     "execution_count": 16,
     "metadata": {},
     "output_type": "execute_result"
    }
   ],
   "source": [
    "# Q10. Write a Python program to convert a list to a set?\n",
    "set(list([1,2,3]))"
   ]
  },
  {
   "cell_type": "code",
   "execution_count": 18,
   "id": "2f07829e",
   "metadata": {},
   "outputs": [
    {
     "name": "stdout",
     "output_type": "stream",
     "text": [
      "8\n",
      "1\n"
     ]
    }
   ],
   "source": [
    "# Q11. Write a Python program to find the maximum and minimum values from the set {5, 2, 8, 1, 4}?\n",
    "s={5, 2, 8, 1, 4}\n",
    "print(max(s))\n",
    "print(min(s))"
   ]
  },
  {
   "cell_type": "code",
   "execution_count": 19,
   "id": "430e1ea6",
   "metadata": {},
   "outputs": [
    {
     "data": {
      "text/plain": [
       "{4, 5}"
      ]
     },
     "execution_count": 19,
     "metadata": {},
     "output_type": "execute_result"
    }
   ],
   "source": [
    "# Q12. Write a Python program to find the common elements between two sets {1, 2, 3, 4, 5} and {4, 5, 6, 7, 8}?\n",
    "\n",
    "a={1,2,3,4,5}\n",
    "b={4,5,6,7,8}\n",
    "a.intersection(b)"
   ]
  },
  {
   "cell_type": "code",
   "execution_count": 20,
   "id": "0e0d2486",
   "metadata": {},
   "outputs": [
    {
     "data": {
      "text/plain": [
       "{1, 2, 3, 4, 5}"
      ]
     },
     "execution_count": 20,
     "metadata": {},
     "output_type": "execute_result"
    }
   ],
   "source": [
    "# Q13. Write a Python program to find the unique elements in the union of two sets: {1, 2, 3} and {3, 4, 5}?\n",
    "\n",
    "a={1,2,3}\n",
    "b={3,4,5}\n",
    "a.union(b)"
   ]
  },
  {
   "cell_type": "code",
   "execution_count": 21,
   "id": "66be5efc",
   "metadata": {},
   "outputs": [
    {
     "data": {
      "text/plain": [
       "{1, 2, 3, 4}"
      ]
     },
     "execution_count": 21,
     "metadata": {},
     "output_type": "execute_result"
    }
   ],
   "source": [
    "# Q14. Write a Python program to find the union of three sets: {1, 2}, {2, 3}, and {3, 4}?\n",
    "\n",
    "a={1,2}\n",
    "b={2,4}\n",
    "c={3,4}\n",
    "a.union(b).union(c)"
   ]
  },
  {
   "cell_type": "code",
   "execution_count": 22,
   "id": "c94a0490",
   "metadata": {},
   "outputs": [
    {
     "data": {
      "text/plain": [
       "{1, 2, 3, 4, 5}"
      ]
     },
     "execution_count": 22,
     "metadata": {},
     "output_type": "execute_result"
    }
   ],
   "source": [
    "# Q15. Write a Python program to remove duplicates from the list [1, 2, 2, 3, 4, 4, 5, 5] by converting it to a set?\n",
    "set(list([1, 2, 2, 3, 4, 4, 5, 5]))"
   ]
  },
  {
   "cell_type": "code",
   "execution_count": 28,
   "id": "ae9dfd38",
   "metadata": {},
   "outputs": [
    {
     "data": {
      "text/plain": [
       "5"
      ]
     },
     "execution_count": 28,
     "metadata": {},
     "output_type": "execute_result"
    }
   ],
   "source": [
    "# Q16. Write a Python program to count the number of elements in the set {1, 2, 3, 4, 5}?\n",
    "\n",
    "s={1,2,3,4,5}\n",
    "len(s)"
   ]
  },
  {
   "cell_type": "code",
   "execution_count": null,
   "id": "a5c6b09e",
   "metadata": {},
   "outputs": [],
   "source": [
    "# Q17. Write a function that takes a string as input and returns the number of distinct characters in it using a set?\n"
   ]
  },
  {
   "cell_type": "code",
   "execution_count": null,
   "id": "08ebf2b8",
   "metadata": {},
   "outputs": [
    {
     "data": {
      "text/plain": [
       "{20, 80}"
      ]
     },
     "execution_count": 30,
     "metadata": {},
     "output_type": "execute_result"
    }
   ],
   "source": [
    "# Q18. Python program to find common elements in three lists using set?\n",
    "\n",
    "l1 = set([1, 5, 10, 20, 40, 80])\n",
    "l2 = set([6, 7, 20, 80, 100])\n",
    "l3 = set([3, 4, 15, 20, 30, 70, 80, 120])\n",
    "\n",
    "l1.intersection(l2,l3)"
   ]
  },
  {
   "cell_type": "code",
   "execution_count": 35,
   "id": "63e3e39e",
   "metadata": {},
   "outputs": [
    {
     "data": {
      "text/plain": [
       "True"
      ]
     },
     "execution_count": 35,
     "metadata": {},
     "output_type": "execute_result"
    }
   ],
   "source": [
    "# Q19. Write a Python program to check if two lists are disjoint?\n",
    "\n",
    "a={1,2,3,4,5}\n",
    "b={6,7}\n",
    "a.isdisjoint(b)"
   ]
  },
  {
   "cell_type": "code",
   "execution_count": 39,
   "id": "9eb6367d",
   "metadata": {},
   "outputs": [
    {
     "data": {
      "text/plain": [
       "{1, 2, 3}"
      ]
     },
     "execution_count": 39,
     "metadata": {},
     "output_type": "execute_result"
    }
   ],
   "source": [
    "# Q20. Write a Python program to find elements in one list that are not present in another list?\n",
    "a=[1,2,3,4]\n",
    "b=[4,5]\n",
    "set(a).difference(set(b))"
   ]
  },
  {
   "cell_type": "code",
   "execution_count": 43,
   "id": "c949e137",
   "metadata": {},
   "outputs": [],
   "source": [
    "# Q21. Write a Python program to find the longest word and smallest word in a set of words?\n",
    "\n",
    "words = {\"apple\", \"banana\", \"cherry\", \"date\"}\n"
   ]
  },
  {
   "cell_type": "code",
   "execution_count": 45,
   "id": "d49bc4e6",
   "metadata": {},
   "outputs": [
    {
     "name": "stdout",
     "output_type": "stream",
     "text": [
      "{1, 2, 4}\n"
     ]
    }
   ],
   "source": [
    "# Q22. Write a Python program to remove a specific element 3 from a set {1, 2, 3, 4}?\n",
    "s={1,2,3,4}\n",
    "s.remove(3)\n",
    "print(s)"
   ]
  },
  {
   "cell_type": "code",
   "execution_count": 50,
   "id": "9040abab",
   "metadata": {},
   "outputs": [
    {
     "name": "stdout",
     "output_type": "stream",
     "text": [
      "no of unique numbera are: 5\n"
     ]
    }
   ],
   "source": [
    "# Q23. Write a Python program to count how many unique elements are in a given list?\n",
    "\n",
    "l = [1, 2, 2, 3, 4, 4, 5]\n",
    "b=len(set(l))\n",
    "print('no of unique numbera are:', b)\n"
   ]
  },
  {
   "cell_type": "code",
   "execution_count": 52,
   "id": "da66db4d",
   "metadata": {},
   "outputs": [
    {
     "data": {
      "text/plain": [
       "{3, 4}"
      ]
     },
     "execution_count": 52,
     "metadata": {},
     "output_type": "execute_result"
    }
   ],
   "source": [
    "# Q24. Write a Python program to find all the elements in a set that are also present in a list?\n",
    "\n",
    "s = {1, 2, 3, 4, 5}\n",
    "l = [3, 4, 6]\n",
    "s.intersection(set(l))"
   ]
  },
  {
   "cell_type": "code",
   "execution_count": 54,
   "id": "0f6476f5",
   "metadata": {},
   "outputs": [
    {
     "name": "stdout",
     "output_type": "stream",
     "text": [
      "('d', 'a', 'b', 'e', 'c')\n",
      "{'a', 'c', 'd', 'e', 'b'}\n"
     ]
    }
   ],
   "source": [
    "# Q25. Python program to convert Set into Tuple and Tuple into Set?\n",
    "\n",
    "s = tuple({'a', 'b', 'c', 'd', 'e'})\n",
    "t = set(('a', 'c', 'b', 'e', 'd'))\n",
    "print(s)\n",
    "print(t)"
   ]
  },
  {
   "cell_type": "code",
   "execution_count": null,
   "id": "c59bbc8f",
   "metadata": {},
   "outputs": [
    {
     "data": {
      "text/plain": [
       "{3, 5, 8}"
      ]
     },
     "execution_count": 55,
     "metadata": {},
     "output_type": "execute_result"
    }
   ],
   "source": [
    "# Q26. Write a program that finds all the missing numbers from a list within a given range 1 to 9?\n",
    "\n",
    "l = set([1, 2, 4, 6, 7, 9])\n",
    "l1= set((range(1,10)))\n",
    "l1.difference(l)"
   ]
  },
  {
   "cell_type": "code",
   "execution_count": null,
   "id": "7f5add97",
   "metadata": {},
   "outputs": [],
   "source": [
    "# Q27. Write a program that generates a set of unique random numbers?"
   ]
  },
  {
   "cell_type": "code",
   "execution_count": 57,
   "id": "d0553303",
   "metadata": {},
   "outputs": [
    {
     "name": "stdout",
     "output_type": "stream",
     "text": [
      "set()\n"
     ]
    }
   ],
   "source": [
    "# Q28. Write a Python program to remove all elements from the given set {10, 20, 30, 40, 50}?\n",
    "s={10,20,30,40,50}\n",
    "s.clear()\n",
    "print(s)"
   ]
  },
  {
   "cell_type": "code",
   "execution_count": 58,
   "id": "9a16151d",
   "metadata": {},
   "outputs": [
    {
     "data": {
      "text/plain": [
       "set()"
      ]
     },
     "execution_count": 58,
     "metadata": {},
     "output_type": "execute_result"
    }
   ],
   "source": [
    "#Q29. How do you create an immutable set in Python?\n",
    "set()"
   ]
  },
  {
   "cell_type": "code",
   "execution_count": null,
   "id": "e2867abf",
   "metadata": {},
   "outputs": [],
   "source": [
    "# Q30. Write a Python program to remove the intersection of a second set with first set?\n",
    "\n"
   ]
  }
 ],
 "metadata": {
  "kernelspec": {
   "display_name": "Python 3",
   "language": "python",
   "name": "python3"
  },
  "language_info": {
   "codemirror_mode": {
    "name": "ipython",
    "version": 3
   },
   "file_extension": ".py",
   "mimetype": "text/x-python",
   "name": "python",
   "nbconvert_exporter": "python",
   "pygments_lexer": "ipython3",
   "version": "3.10.16"
  }
 },
 "nbformat": 4,
 "nbformat_minor": 5
}
