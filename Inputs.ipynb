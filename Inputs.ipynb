{
 "cells": [
  {
   "cell_type": "code",
   "execution_count": null,
   "id": "3aeb52bf",
   "metadata": {},
   "outputs": [
    {
     "name": "stdout",
     "output_type": "stream",
     "text": [
      "24\n"
     ]
    }
   ],
   "source": [
    "# Take two numbers as input and print their sum.\n",
    "\n",
    "num1=int(input(\"Enter num1 : \"))\n",
    "num2=int(input(\"Enter num2 : \"))\n",
    "print(num1+num2)"
   ]
  },
  {
   "cell_type": "code",
   "execution_count": null,
   "id": "f7f11421",
   "metadata": {},
   "outputs": [
    {
     "name": "stdout",
     "output_type": "stream",
     "text": [
      "weight :  50.0\n"
     ]
    }
   ],
   "source": [
    "# Take a float number from user and print.\n",
    "\n",
    "w=float(input(\"Enter Your Weight : \"))\n",
    "print(\"weight : \" , w) # here we cant use + instead of comma coz its meaning is to concate."
   ]
  },
  {
   "cell_type": "code",
   "execution_count": 10,
   "id": "41de4330",
   "metadata": {},
   "outputs": [
    {
     "name": "stdout",
     "output_type": "stream",
     "text": [
      "78 years left to reach 100.\n"
     ]
    }
   ],
   "source": [
    "# Take your age as input and calculate how many year left to reach 100.\n",
    "\n",
    "my_age=int(input(\"Enter your age: \"))\n",
    "x= 100-my_age\n",
    "print(x,\"years left to reach 100.\")"
   ]
  },
  {
   "cell_type": "code",
   "execution_count": 11,
   "id": "ddaf70dc",
   "metadata": {},
   "outputs": [
    {
     "name": "stdout",
     "output_type": "stream",
     "text": [
      "sakshi sahu\n"
     ]
    }
   ],
   "source": [
    "# Ask the user for their first and last name and print their full name.\n",
    "\n",
    "first_name=input(\"First name: \")\n",
    "last_name=input(\"Last name: \")\n",
    "print(first_name, last_name)"
   ]
  },
  {
   "cell_type": "code",
   "execution_count": 12,
   "id": "1ad1892f",
   "metadata": {},
   "outputs": [
    {
     "name": "stdout",
     "output_type": "stream",
     "text": [
      "Area of a circle is:  19.625\n"
     ]
    }
   ],
   "source": [
    "# Take radius as input in float and print area of circle.\n",
    "R=float(input(\"Radius is: \"))\n",
    "area= 3.14*R*R\n",
    "print(\"Area of a circle is: \", area)"
   ]
  },
  {
   "cell_type": "code",
   "execution_count": 14,
   "id": "f1c5e728",
   "metadata": {},
   "outputs": [
    {
     "name": "stdout",
     "output_type": "stream",
     "text": [
      "40\n"
     ]
    }
   ],
   "source": [
    "#Take a number and multiply with 2 and print their product.\n",
    "\n",
    "num=int(input(\"enter number: \"))\n",
    "result=num*2\n",
    "print(result)"
   ]
  },
  {
   "cell_type": "code",
   "execution_count": null,
   "id": "a0a8612e",
   "metadata": {},
   "outputs": [
    {
     "name": "stdout",
     "output_type": "stream",
     "text": [
      "20\n"
     ]
    },
    {
     "data": {
      "text/plain": [
       "int"
      ]
     },
     "execution_count": 17,
     "metadata": {},
     "output_type": "execute_result"
    }
   ],
   "source": [
    "# take a string input repesenting number, convert to int and 10 to it.\n",
    "\n",
    "a=str(input(\"enter num: \"))\n",
    "b=int(a)+10\n",
    "print(b)\n",
    "type(b)"
   ]
  },
  {
   "cell_type": "code",
   "execution_count": null,
   "id": "6d7a1d84",
   "metadata": {},
   "outputs": [
    {
     "name": "stdout",
     "output_type": "stream",
     "text": [
      "20.55 20\n"
     ]
    }
   ],
   "source": [
    "# Take a float as input, convert it to int and print both values.\n",
    "\n",
    "num1=float(input(\"enter num: \"))\n",
    "num2=int(num1)\n",
    "print(num1, num2)"
   ]
  },
  {
   "cell_type": "code",
   "execution_count": null,
   "id": "67a75706",
   "metadata": {},
   "outputs": [
    {
     "name": "stdout",
     "output_type": "stream",
     "text": [
      "Sakshi WELCOME\n"
     ]
    }
   ],
   "source": [
    "# Ask the user for their name and print welcome.\n",
    "\n",
    "name=input(\"enter name: \")\n",
    "print(name, \"WELCOME\")"
   ]
  }
 ],
 "metadata": {
  "kernelspec": {
   "display_name": "Python 3",
   "language": "python",
   "name": "python3"
  },
  "language_info": {
   "codemirror_mode": {
    "name": "ipython",
    "version": 3
   },
   "file_extension": ".py",
   "mimetype": "text/x-python",
   "name": "python",
   "nbconvert_exporter": "python",
   "pygments_lexer": "ipython3",
   "version": "3.10.16"
  }
 },
 "nbformat": 4,
 "nbformat_minor": 5
}
