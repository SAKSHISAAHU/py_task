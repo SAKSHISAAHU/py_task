{
 "cells": [
  {
   "cell_type": "code",
   "execution_count": 2,
   "id": "cd8e0212",
   "metadata": {},
   "outputs": [
    {
     "name": "stdout",
     "output_type": "stream",
     "text": [
      "20\n",
      "40\n"
     ]
    }
   ],
   "source": [
    "# Q1. Given the list numbers = [10, 20, 30, 40, 50], print the second and fourth elements of the list?\n",
    "l1=[10,20,30,40,50]\n",
    "print(l1[1])\n",
    "print(l1[3])"
   ]
  },
  {
   "cell_type": "code",
   "execution_count": 3,
   "id": "90041c72",
   "metadata": {},
   "outputs": [
    {
     "data": {
      "text/plain": [
       "[9, 8, 4]"
      ]
     },
     "execution_count": 3,
     "metadata": {},
     "output_type": "execute_result"
    }
   ],
   "source": [
    "# Q2. Given the list of numbers = [1,2,3,4,10,9,8,4], print the last three numbers using slicing?\n",
    "l2=[1,2,3,4,10,9,8,4]\n",
    "l2[5:8]"
   ]
  },
  {
   "cell_type": "code",
   "execution_count": 4,
   "id": "e9dba6bf",
   "metadata": {},
   "outputs": [
    {
     "name": "stdout",
     "output_type": "stream",
     "text": [
      "10\n",
      "1\n"
     ]
    }
   ],
   "source": [
    "# Q3. Create a list of numbers and print both the maximum and minimum values in the list using the max() and min() functions?\n",
    "l3=[1,2,3,4,10,9,8,4]\n",
    "print(max(l3))\n",
    "print(min(l3))"
   ]
  },
  {
   "cell_type": "code",
   "execution_count": 6,
   "id": "36f96c64",
   "metadata": {},
   "outputs": [
    {
     "name": "stdout",
     "output_type": "stream",
     "text": [
      "['s', 's', 'k', 'i', 'h', 'a']\n"
     ]
    }
   ],
   "source": [
    "# Q4. Create a list of letters, sort them and print the list in reverse order?\n",
    "l4=['s','a','k','s','h','i']\n",
    "l4.sort(reverse=True)\n",
    "print(l4)"
   ]
  },
  {
   "cell_type": "code",
   "execution_count": 10,
   "id": "1d2257ab",
   "metadata": {},
   "outputs": [
    {
     "data": {
      "text/plain": [
       "2"
      ]
     },
     "execution_count": 10,
     "metadata": {},
     "output_type": "execute_result"
    }
   ],
   "source": [
    "# Q5. Create a list of strings and count how many times a specific string appears using count()?\n",
    "l5=['s','a','k','s','h','i']\n",
    "l5.count('s')"
   ]
  },
  {
   "cell_type": "code",
   "execution_count": null,
   "id": "5bb9a4b2",
   "metadata": {},
   "outputs": [
    {
     "data": {
      "text/plain": [
       "['blue', 'orange', 'yellow', 'green', 'red']"
      ]
     },
     "execution_count": 14,
     "metadata": {},
     "output_type": "execute_result"
    }
   ],
   "source": [
    "# Q6. Create a list of colours. Swap first and last elements and print the updated list?\n",
    "l6=[\"red\",\"orange\",\"yellow\",\"green\",\"blue\"]\n",
    "l6[0],l6[-1] = l6[-1], l6[0]\n",
    "l6\n",
    "\n",
    "# or\n",
    "a=[\"red\",\"orange\",\"yellow\",\"green\",\"blue\"]\n",
    "b=a.copy()\n",
    "b[-1]=a[0]\n",
    "b[0]=a[-1]\n",
    "b"
   ]
  },
  {
   "cell_type": "code",
   "execution_count": 15,
   "id": "787e7f73",
   "metadata": {},
   "outputs": [
    {
     "data": {
      "text/plain": [
       "'hello'"
      ]
     },
     "execution_count": 15,
     "metadata": {},
     "output_type": "execute_result"
    }
   ],
   "source": [
    "# Q7. Write a code to get \"hello\" from this list:\n",
    "l7 = [25, 30, [26, 27, 28, \"hello\"], [32, 38]]\n",
    "l7[2][3]"
   ]
  },
  {
   "cell_type": "code",
   "execution_count": 17,
   "id": "598b1c15",
   "metadata": {},
   "outputs": [
    {
     "data": {
      "text/plain": [
       "[25, 30, [26, 43, 28, 'hello'], [32, 38]]"
      ]
     },
     "execution_count": 17,
     "metadata": {},
     "output_type": "execute_result"
    }
   ],
   "source": [
    "# Q8. Replace 27 with 43 in the above list?\n",
    "l8 = [25, 30, [26, 27, 28, \"hello\"], [32, 38]]\n",
    "l8[2][1]=43\n",
    "l8"
   ]
  },
  {
   "cell_type": "code",
   "execution_count": 22,
   "id": "8b1e92d6",
   "metadata": {},
   "outputs": [
    {
     "name": "stdout",
     "output_type": "stream",
     "text": [
      "[25, 30, [26, 27, 28, 'hello'], True, [32, 38]]\n",
      "[25, 30, [26, 27, 28, 'hello'], [32, 38], True]\n"
     ]
    }
   ],
   "source": [
    "# Q9. Insert a value \"True\" at the second and first position from the end?\n",
    "# second position from last\n",
    "l9 = [25, 30, [26, 27, 28, \"hello\"], [32, 38]]\n",
    "l9.insert(-1,True)\n",
    "print(l9)\n",
    "\n",
    "# first position from last\n",
    "a = [25, 30, [26, 27, 28, \"hello\"], [32, 38]]\n",
    "a.insert(len(a),True)\n",
    "print(a)"
   ]
  },
  {
   "cell_type": "code",
   "execution_count": 29,
   "id": "ccdce32c",
   "metadata": {},
   "outputs": [
    {
     "name": "stdout",
     "output_type": "stream",
     "text": [
      "[1, 2, 3, 4, 4, 7, 9, 1, 3, 3, 4, 5, 7, 8]\n"
     ]
    }
   ],
   "source": [
    "# Q10. Write a Python program to merge two sorted lists into a single sorted list?\n",
    "a=[1,3,4,2,7,9,4]\n",
    "a.sort()\n",
    "b=[3,4,1,5,8,3,7]\n",
    "b.sort()\n",
    "c=a+b\n",
    "print(c)"
   ]
  },
  {
   "cell_type": "code",
   "execution_count": 31,
   "id": "c4d11b7a",
   "metadata": {},
   "outputs": [
    {
     "name": "stdout",
     "output_type": "stream",
     "text": [
      "['apple']\n"
     ]
    }
   ],
   "source": [
    "# Q11. Create an empty list and let user append favorite fruits using append()?\n",
    "l=[]\n",
    "n=input('enter fruits:')\n",
    "l.append(n)\n",
    "print(l)"
   ]
  },
  {
   "cell_type": "code",
   "execution_count": 33,
   "id": "36bace69",
   "metadata": {},
   "outputs": [
    {
     "name": "stdout",
     "output_type": "stream",
     "text": [
      "['apple', 'mango', 'grapes', 'banana']\n"
     ]
    }
   ],
   "source": [
    "# Q12. Add three more fruits at once to the list?\n",
    "l=[]\n",
    "n=input('enter fruits:')\n",
    "l.append(n)\n",
    "l.extend(['mango','grapes','banana'])\n",
    "print(l)"
   ]
  },
  {
   "cell_type": "code",
   "execution_count": 34,
   "id": "728f0d28",
   "metadata": {},
   "outputs": [
    {
     "data": {
      "text/plain": [
       "['apple', 'banana', 'grapes', 'mango']"
      ]
     },
     "execution_count": 34,
     "metadata": {},
     "output_type": "execute_result"
    }
   ],
   "source": [
    "# Q13. Sort the above list using sort() method?\n",
    "l13 = ['apple', 'mango', 'grapes', 'banana']\n",
    "l13.sort()\n",
    "l13"
   ]
  },
  {
   "cell_type": "code",
   "execution_count": 35,
   "id": "88b71dff",
   "metadata": {},
   "outputs": [
    {
     "name": "stdout",
     "output_type": "stream",
     "text": [
      "[2, 4, 6, 8, 1, 3, 5, 7]\n"
     ]
    }
   ],
   "source": [
    "# Q14. Create even and odd lists, merge them using extend() and print result?\n",
    "a=[2,4,6,8]\n",
    "b=[1,3,5,7]\n",
    "a.extend(b)\n",
    "print(a)"
   ]
  },
  {
   "cell_type": "code",
   "execution_count": 38,
   "id": "27b050ee",
   "metadata": {},
   "outputs": [
    {
     "name": "stdout",
     "output_type": "stream",
     "text": [
      "46\n",
      "5.75\n"
     ]
    }
   ],
   "source": [
    "# Q15. Given list, find the sum and average?\n",
    "l15 = [4, 5, 1, 2, 9, 7, 10, 8]\n",
    "total= sum(l15)\n",
    "print(total)\n",
    "\n",
    "avg= total/len(l15)\n",
    "print(avg)"
   ]
  },
  {
   "cell_type": "code",
   "execution_count": null,
   "id": "e07ae20c",
   "metadata": {},
   "outputs": [],
   "source": [
    "# Q16. Sort this list of tuples by the last element:\n",
    "l16 = [(2, 5), (1, 2), (4, 4), (2, 3), (2, 1)]\n"
   ]
  },
  {
   "cell_type": "code",
   "execution_count": null,
   "id": "fc256595",
   "metadata": {},
   "outputs": [],
   "source": [
    "# Q17. Write a Python program to find the difference between two lists?"
   ]
  },
  {
   "cell_type": "code",
   "execution_count": 39,
   "id": "8fdd0800",
   "metadata": {},
   "outputs": [
    {
     "name": "stdout",
     "output_type": "stream",
     "text": [
      "[1, 2, 3, 4, 5]\n"
     ]
    }
   ],
   "source": [
    "# Q18. Write a Python program to clone or copy a list?\n",
    "l18 = [1,2,3,4,5]\n",
    "a=l18.copy()\n",
    "print(a)"
   ]
  },
  {
   "cell_type": "code",
   "execution_count": 44,
   "id": "9daaa05c",
   "metadata": {},
   "outputs": [
    {
     "data": {
      "text/plain": [
       "[5, 1, 2, 9, 10]"
      ]
     },
     "execution_count": 44,
     "metadata": {},
     "output_type": "execute_result"
    }
   ],
   "source": [
    "# Q19. Write a program to remove the 0th, 4th, and 5th elements and print the updated list?\n",
    "l19 = [4, 5, 1, 2, 9, 7, 10, 8]\n",
    "l19.pop(0)\n",
    "l19.pop(4)\n",
    "l19.pop(5)\n",
    "l19"
   ]
  },
  {
   "cell_type": "code",
   "execution_count": 47,
   "id": "97e657d9",
   "metadata": {},
   "outputs": [
    {
     "data": {
      "text/plain": [
       "[1, 2, 3, 4, 5, [6, 7, 8]]"
      ]
     },
     "execution_count": 47,
     "metadata": {},
     "output_type": "execute_result"
    }
   ],
   "source": [
    "# Q20. Write a Python program to append a list to the second list?\n",
    "l20=[1,2,3,4,5]\n",
    "l20.append([6,7,8])\n",
    "l20"
   ]
  },
  {
   "cell_type": "code",
   "execution_count": 49,
   "id": "d6dc5803",
   "metadata": {},
   "outputs": [
    {
     "data": {
      "text/plain": [
       "2"
      ]
     },
     "execution_count": 49,
     "metadata": {},
     "output_type": "execute_result"
    }
   ],
   "source": [
    "# Q21. Write a program that counts how many times a specific element appears in a list?\n",
    "l21=[1, 2, 3, 4, 4, 7, 9, 1, 3, 3, 4, 5, 7, 8]\n",
    "l21.count(7)"
   ]
  },
  {
   "cell_type": "code",
   "execution_count": 54,
   "id": "fe20ce53",
   "metadata": {},
   "outputs": [
    {
     "data": {
      "text/plain": [
       "9"
      ]
     },
     "execution_count": 54,
     "metadata": {},
     "output_type": "execute_result"
    }
   ],
   "source": [
    "# Q22. Write a Python program to find the second smallest number in a list?\n",
    "l22=[5, 1, 2, 2, 9, 10]\n",
    "l22.sort()\n",
    "l22[-2]"
   ]
  },
  {
   "cell_type": "code",
   "execution_count": null,
   "id": "797e7d59",
   "metadata": {},
   "outputs": [
    {
     "name": "stdout",
     "output_type": "stream",
     "text": [
      "[1, 2, 3, 4, 5, 7, 8, 9]\n"
     ]
    }
   ],
   "source": [
    "# Q23. Write a Python program to get unique (non duplicate) values from a list?\n",
    "l23=[1, 2, 3, 4, 4, 7, 9, 1, 3, 3, 4, 5, 7, 8]\n",
    "unique=list(set(l23))\n",
    "print(unique)"
   ]
  },
  {
   "cell_type": "code",
   "execution_count": 56,
   "id": "e5f1de36",
   "metadata": {},
   "outputs": [
    {
     "data": {
      "text/plain": [
       "[10, 9, 2, 2, 1, 5]"
      ]
     },
     "execution_count": 56,
     "metadata": {},
     "output_type": "execute_result"
    }
   ],
   "source": [
    "# Q24. Write a program that reverses the elements of a list?\n",
    "l24=[5, 1, 2, 2, 9, 10]\n",
    "l24.reverse()\n",
    "l24"
   ]
  },
  {
   "cell_type": "code",
   "execution_count": null,
   "id": "5d682a8e",
   "metadata": {},
   "outputs": [],
   "source": [
    "# Q25. Write a program that creates a list of the squares of all numbers in a given list?\n",
    "l25=[5, 1, 2, 2, 9, 10]\n"
   ]
  },
  {
   "cell_type": "code",
   "execution_count": null,
   "id": "a4891372",
   "metadata": {},
   "outputs": [],
   "source": [
    "# Q26. Filter elements that start with \"a\" from the given list using list comprehension?\n",
    "fruits = ['apple', 'banana', 'avocado', 'cherry']\n"
   ]
  },
  {
   "cell_type": "markdown",
   "id": "be2bd2cc",
   "metadata": {},
   "source": [
    "## TEST"
   ]
  },
  {
   "cell_type": "code",
   "execution_count": 9,
   "id": "bdb78eda",
   "metadata": {},
   "outputs": [
    {
     "name": "stdout",
     "output_type": "stream",
     "text": [
      "[21, 22, 23, 24]\n"
     ]
    }
   ],
   "source": [
    "# Add 20 for each value in the list.\n",
    "\n",
    "l=[1,2,3,4]\n",
    "n=[]\n",
    "for i in l:\n",
    "    n.append(i+20)\n",
    "print(n)"
   ]
  },
  {
   "cell_type": "code",
   "execution_count": 15,
   "id": "87fd7261",
   "metadata": {},
   "outputs": [
    {
     "name": "stdout",
     "output_type": "stream",
     "text": [
      "[1, 2, 3, 4, 5, 6, 7]\n"
     ]
    }
   ],
   "source": [
    "# add 5,6,7 into the list using loop\n",
    "\n",
    "l=[1,2,3,4]\n",
    "for i in range(5,8):\n",
    "    l.append(i)\n",
    "print(l)"
   ]
  },
  {
   "cell_type": "code",
   "execution_count": 16,
   "id": "7a4995c4",
   "metadata": {},
   "outputs": [
    {
     "name": "stdout",
     "output_type": "stream",
     "text": [
      "[1, 2, 5]\n"
     ]
    }
   ],
   "source": [
    "# remove 3,4,6 from the list\n",
    "\n",
    "l=[1,2,3,4,5,6]\n",
    "n=[]\n",
    "for i in l:\n",
    "    if i not in [3,4,6]:\n",
    "        n.append(i)\n",
    "print(n)\n",
    "         "
   ]
  },
  {
   "cell_type": "code",
   "execution_count": null,
   "id": "d4e75cb3",
   "metadata": {},
   "outputs": [
    {
     "name": "stdout",
     "output_type": "stream",
     "text": [
      "41\n",
      "[10, 21, 41]\n"
     ]
    }
   ],
   "source": [
    "# extract\n",
    "\n",
    "l=[10,21,41,60,79]\n",
    "print(l[2])\n",
    "print(l[0:3])"
   ]
  },
  {
   "cell_type": "code",
   "execution_count": 24,
   "id": "7d38207e",
   "metadata": {},
   "outputs": [
    {
     "name": "stdout",
     "output_type": "stream",
     "text": [
      "[10, 60]\n"
     ]
    }
   ],
   "source": [
    "# extract even number\n",
    "\n",
    "l=[10,21,41,60,79]\n",
    "n=[]\n",
    "for i in l:\n",
    "    if i%2==0:\n",
    "        n.append(i)\n",
    "print(n)"
   ]
  },
  {
   "cell_type": "code",
   "execution_count": 23,
   "id": "f3aa2670",
   "metadata": {},
   "outputs": [
    {
     "name": "stdout",
     "output_type": "stream",
     "text": [
      "[41, 60, 79]\n"
     ]
    }
   ],
   "source": [
    "# extract value > 40\n",
    "\n",
    "l=[10,21,41,60,79]\n",
    "n=[]\n",
    "for i in l:\n",
    "    if i>40:\n",
    "        n.append(i)\n",
    "print(n)"
   ]
  },
  {
   "cell_type": "code",
   "execution_count": 25,
   "id": "be1ac151",
   "metadata": {},
   "outputs": [
    {
     "name": "stdout",
     "output_type": "stream",
     "text": [
      "[10, 21, 60]\n"
     ]
    }
   ],
   "source": [
    "l=[10,21,41,60,79]\n",
    "n=[]\n",
    "for i in [10,21,60]:\n",
    "    n.append(i)\n",
    "print(n)"
   ]
  },
  {
   "cell_type": "code",
   "execution_count": 31,
   "id": "996bb551",
   "metadata": {},
   "outputs": [
    {
     "name": "stdout",
     "output_type": "stream",
     "text": [
      "[30, 52, 44]\n"
     ]
    }
   ],
   "source": [
    "# add both lists value wise\n",
    "\n",
    "l1=[10,11,12]\n",
    "l2=[20,41,32]\n",
    "n=[]\n",
    "for i in [0,1,2]:\n",
    "    n.append(l1[i]+l2[i])\n",
    "print(n)"
   ]
  }
 ],
 "metadata": {
  "kernelspec": {
   "display_name": "Python 3",
   "language": "python",
   "name": "python3"
  },
  "language_info": {
   "codemirror_mode": {
    "name": "ipython",
    "version": 3
   },
   "file_extension": ".py",
   "mimetype": "text/x-python",
   "name": "python",
   "nbconvert_exporter": "python",
   "pygments_lexer": "ipython3",
   "version": "3.10.16"
  }
 },
 "nbformat": 4,
 "nbformat_minor": 5
}
