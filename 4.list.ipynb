{
 "cells": [
  {
   "cell_type": "code",
   "execution_count": 2,
   "id": "cd8e0212",
   "metadata": {},
   "outputs": [
    {
     "name": "stdout",
     "output_type": "stream",
     "text": [
      "20\n",
      "40\n"
     ]
    }
   ],
   "source": [
    "# Q1. Given the list numbers = [10, 20, 30, 40, 50], print the second and fourth elements of the list?\n",
    "l1=[10,20,30,40,50]\n",
    "print(l1[1])\n",
    "print(l1[3])"
   ]
  },
  {
   "cell_type": "code",
   "execution_count": 3,
   "id": "90041c72",
   "metadata": {},
   "outputs": [
    {
     "data": {
      "text/plain": [
       "[9, 8, 4]"
      ]
     },
     "execution_count": 3,
     "metadata": {},
     "output_type": "execute_result"
    }
   ],
   "source": [
    "# Q2. Given the list of numbers = [1,2,3,4,10,9,8,4], print the last three numbers using slicing?\n",
    "l2=[1,2,3,4,10,9,8,4]\n",
    "l2[5:8]"
   ]
  },
  {
   "cell_type": "code",
   "execution_count": 4,
   "id": "e9dba6bf",
   "metadata": {},
   "outputs": [
    {
     "name": "stdout",
     "output_type": "stream",
     "text": [
      "10\n",
      "1\n"
     ]
    }
   ],
   "source": [
    "# Q3. Create a list of numbers and print both the maximum and minimum values in the list using the max() and min() functions?\n",
    "l3=[1,2,3,4,10,9,8,4]\n",
    "print(max(l3))\n",
    "print(min(l3))"
   ]
  },
  {
   "cell_type": "code",
   "execution_count": null,
   "id": "36f96c64",
   "metadata": {},
   "outputs": [],
   "source": [
    "# Q4. Create a list of letters, sort them and print the list in reverse order?\n"
   ]
  }
 ],
 "metadata": {
  "kernelspec": {
   "display_name": "Python 3",
   "language": "python",
   "name": "python3"
  },
  "language_info": {
   "codemirror_mode": {
    "name": "ipython",
    "version": 3
   },
   "file_extension": ".py",
   "mimetype": "text/x-python",
   "name": "python",
   "nbconvert_exporter": "python",
   "pygments_lexer": "ipython3",
   "version": "3.10.16"
  }
 },
 "nbformat": 4,
 "nbformat_minor": 5
}
