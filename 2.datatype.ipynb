{
 "cells": [
  {
   "cell_type": "code",
   "execution_count": 1,
   "id": "f7e68343",
   "metadata": {},
   "outputs": [
    {
     "name": "stdout",
     "output_type": "stream",
     "text": [
      "17\n"
     ]
    }
   ],
   "source": [
    "# 1.Add and print\n",
    "a=12\n",
    "b=5\n",
    "print(a+b)"
   ]
  },
  {
   "cell_type": "code",
   "execution_count": 2,
   "id": "71e32868",
   "metadata": {},
   "outputs": [
    {
     "name": "stdout",
     "output_type": "stream",
     "text": [
      "27\n"
     ]
    }
   ],
   "source": [
    "# 2.Multiply x and y then subtract y\n",
    "x=10\n",
    "y=3\n",
    "z=x*y-y\n",
    "print(z)"
   ]
  },
  {
   "cell_type": "code",
   "execution_count": 3,
   "id": "eef34e60",
   "metadata": {},
   "outputs": [
    {
     "name": "stdout",
     "output_type": "stream",
     "text": [
      "True\n"
     ]
    },
    {
     "data": {
      "text/plain": [
       "bool"
      ]
     },
     "execution_count": 3,
     "metadata": {},
     "output_type": "execute_result"
    }
   ],
   "source": [
    "# 3.Check and print the datatype of x if it is true.\n",
    "x=True\n",
    "print(x)\n",
    "type(x)"
   ]
  },
  {
   "cell_type": "code",
   "execution_count": 5,
   "id": "b38f96b7",
   "metadata": {},
   "outputs": [
    {
     "name": "stdout",
     "output_type": "stream",
     "text": [
      "1\n"
     ]
    }
   ],
   "source": [
    "# 4. Find remainder when one number is divided by another where one number is 17 and the other is 4.\n",
    "x=17\n",
    "y=4\n",
    "z=17%4\n",
    "print(z)"
   ]
  },
  {
   "cell_type": "code",
   "execution_count": 7,
   "id": "79e77913",
   "metadata": {},
   "outputs": [
    {
     "name": "stdout",
     "output_type": "stream",
     "text": [
      "20\n"
     ]
    }
   ],
   "source": [
    "# Q5. Multiply 3 numbers, subtract last where 2, 3 and 4 are the numbers.\n",
    "result=(2*3*4-4)\n",
    "print(result)"
   ]
  },
  {
   "cell_type": "code",
   "execution_count": null,
   "id": "4b292b09",
   "metadata": {},
   "outputs": [],
   "source": [
    "# Q6. Form a number from digits 5, 6, 9.\n"
   ]
  },
  {
   "cell_type": "code",
   "execution_count": 8,
   "id": "28c4996b",
   "metadata": {},
   "outputs": [
    {
     "name": "stdout",
     "output_type": "stream",
     "text": [
      "15\n"
     ]
    }
   ],
   "source": [
    "# Q7. Find the difference between two integers\n",
    "a = 10\n",
    "b = 25\n",
    "print(b-a)"
   ]
  },
  {
   "cell_type": "code",
   "execution_count": 9,
   "id": "7513b69e",
   "metadata": {},
   "outputs": [
    {
     "name": "stdout",
     "output_type": "stream",
     "text": [
      "100\n"
     ]
    }
   ],
   "source": [
    "# Q8. Add 1 to a given number 99.\n",
    "a=99\n",
    "print(a+1)"
   ]
  },
  {
   "cell_type": "code",
   "execution_count": 10,
   "id": "2aee9824",
   "metadata": {},
   "outputs": [
    {
     "name": "stdout",
     "output_type": "stream",
     "text": [
      "17\n"
     ]
    }
   ],
   "source": [
    "# Q9. Square a number and Add 1. Where number is 4.\n",
    "x=4\n",
    "print(x*x+1)"
   ]
  },
  {
   "cell_type": "code",
   "execution_count": 11,
   "id": "d9d78590",
   "metadata": {},
   "outputs": [
    {
     "name": "stdout",
     "output_type": "stream",
     "text": [
      "55\n"
     ]
    }
   ],
   "source": [
    "# Q10. Multiply a number by 10 and Subtract 5. Where number is 6.\n",
    "a=6\n",
    "print(a*10-5)"
   ]
  },
  {
   "cell_type": "code",
   "execution_count": 12,
   "id": "4d4381c6",
   "metadata": {},
   "outputs": [
    {
     "name": "stdout",
     "output_type": "stream",
     "text": [
      "3.69\n"
     ]
    }
   ],
   "source": [
    "# Q11. Add two float numbers 1.234 and 2.456.\n",
    "a=1.234\n",
    "b=2.456\n",
    "print(a+b)"
   ]
  },
  {
   "cell_type": "code",
   "execution_count": 14,
   "id": "87194b5f",
   "metadata": {},
   "outputs": [
    {
     "name": "stdout",
     "output_type": "stream",
     "text": [
      "19.625\n"
     ]
    }
   ],
   "source": [
    "# Q12. Calculate the area of a circle with radius 2.5 and pi = 3.14.\n",
    "r=2.5\n",
    "a=3.14*r*r\n",
    "print(a)"
   ]
  },
  {
   "cell_type": "code",
   "execution_count": 15,
   "id": "6f9d5511",
   "metadata": {},
   "outputs": [
    {
     "name": "stdout",
     "output_type": "stream",
     "text": [
      "2500.0\n"
     ]
    }
   ],
   "source": [
    "# Q13. Multiply a float 2.5 with large int 1000.\n",
    "a=2.5\n",
    "b=1000\n",
    "print(a*b)"
   ]
  },
  {
   "cell_type": "code",
   "execution_count": 16,
   "id": "68530ddf",
   "metadata": {},
   "outputs": [
    {
     "name": "stdout",
     "output_type": "stream",
     "text": [
      "6.5\n"
     ]
    }
   ],
   "source": [
    "# Q14. Add float 2.5 with an int 4. What is the output.\n",
    "a=2.5\n",
    "b=4\n",
    "print(a+b)"
   ]
  },
  {
   "cell_type": "code",
   "execution_count": 20,
   "id": "fa7ef0b6",
   "metadata": {},
   "outputs": [
    {
     "name": "stdout",
     "output_type": "stream",
     "text": [
      "8.333333333333334\n"
     ]
    }
   ],
   "source": [
    "# Q15. Calculate average value of three float values 2.5, 3.5 and 7.0.\n",
    "a,b,c=2.5,3.5,7.0\n",
    "avg=a+b+c/3\n",
    "print(avg)"
   ]
  },
  {
   "cell_type": "code",
   "execution_count": 23,
   "id": "55146b2b",
   "metadata": {},
   "outputs": [
    {
     "name": "stdout",
     "output_type": "stream",
     "text": [
      "<class 'int'>\n",
      "<class 'float'>\n"
     ]
    }
   ],
   "source": [
    "# Q16. Given two variables 5 and 8.0 check their datatypes.\n",
    "a=5\n",
    "print(type(a))\n",
    "b=8.0\n",
    "print(type(b))"
   ]
  },
  {
   "cell_type": "code",
   "execution_count": 24,
   "id": "d7b9a3ce",
   "metadata": {},
   "outputs": [
    {
     "name": "stdout",
     "output_type": "stream",
     "text": [
      "8.0\n"
     ]
    }
   ],
   "source": [
    "# Q17. Multiply an Integer 4 with float 2.0.\n",
    "a=4\n",
    "b=2.0\n",
    "print(a*b)"
   ]
  },
  {
   "cell_type": "code",
   "execution_count": 25,
   "id": "d0c6f9d8",
   "metadata": {},
   "outputs": [
    {
     "name": "stdout",
     "output_type": "stream",
     "text": [
      "<class 'int'>\n",
      "2.5\n",
      "<class 'float'>\n"
     ]
    }
   ],
   "source": [
    "# Q18. Check Type before and after dividing it by 2. Where number is 5.\n",
    "a=5\n",
    "print(type(a))\n",
    "b=5/2\n",
    "print(b)\n",
    "print(type(b))"
   ]
  },
  {
   "cell_type": "code",
   "execution_count": 26,
   "id": "cb8a3ebc",
   "metadata": {},
   "outputs": [
    {
     "name": "stdout",
     "output_type": "stream",
     "text": [
      "True\n"
     ]
    }
   ],
   "source": [
    "# Q19. Check the boolean value of x. Where x is 20.\n",
    "x=20\n",
    "print(bool(x))"
   ]
  },
  {
   "cell_type": "code",
   "execution_count": 27,
   "id": "1247cb58",
   "metadata": {},
   "outputs": [
    {
     "name": "stdout",
     "output_type": "stream",
     "text": [
      "False\n"
     ]
    }
   ],
   "source": [
    "# Q20. Check the boolean value of x. Where x is 0.\n",
    "x=0\n",
    "print(bool(x))"
   ]
  }
 ],
 "metadata": {
  "kernelspec": {
   "display_name": "Python 3",
   "language": "python",
   "name": "python3"
  },
  "language_info": {
   "codemirror_mode": {
    "name": "ipython",
    "version": 3
   },
   "file_extension": ".py",
   "mimetype": "text/x-python",
   "name": "python",
   "nbconvert_exporter": "python",
   "pygments_lexer": "ipython3",
   "version": "3.10.16"
  }
 },
 "nbformat": 4,
 "nbformat_minor": 5
}
