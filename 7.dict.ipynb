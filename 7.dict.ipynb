{
 "cells": [
  {
   "cell_type": "code",
   "execution_count": 2,
   "id": "ef8491d5",
   "metadata": {},
   "outputs": [
    {
     "name": "stdout",
     "output_type": "stream",
     "text": [
      "{'sam': 22, 'jack': 40, 'rachel': 33}\n"
     ]
    }
   ],
   "source": [
    "# Q1. Write a program to create a dictionary that contains names as keys and ages as values?\n",
    "d={\"sam\":22, \"jack\":40, \"rachel\":33}\n",
    "print(d)"
   ]
  },
  {
   "cell_type": "code",
   "execution_count": 3,
   "id": "33974082",
   "metadata": {},
   "outputs": [
    {
     "name": "stdout",
     "output_type": "stream",
     "text": [
      "{'sam': 22, 'jack': 40, 'rachel': 33, 'apek': 18}\n"
     ]
    }
   ],
   "source": [
    "# Q2. Write a program to add a new key-value pair to an existing dictionary?\n",
    "d={\"sam\":22, \"jack\":40, \"rachel\":33}\n",
    "d.update({\"apek\":18})\n",
    "print(d)"
   ]
  },
  {
   "cell_type": "code",
   "execution_count": null,
   "id": "3a088446",
   "metadata": {},
   "outputs": [
    {
     "name": "stdout",
     "output_type": "stream",
     "text": [
      "{'jack': 40, 'rachel': 33}\n"
     ]
    }
   ],
   "source": [
    "#Q3. Write a program that removes a key-value pair from a dictionary?\n",
    "d={\"sam\":22, \"jack\":40, \"rachel\":33}\n",
    "d.pop(\"sam\")\n",
    "print(d)"
   ]
  },
  {
   "cell_type": "code",
   "execution_count": 5,
   "id": "b6caf6fc",
   "metadata": {},
   "outputs": [
    {
     "data": {
      "text/plain": [
       "2"
      ]
     },
     "execution_count": 5,
     "metadata": {},
     "output_type": "execute_result"
    }
   ],
   "source": [
    "# Q4. Write a program to find the number of key-value pairs in a dictionary?\n",
    "d={'jack': 40, 'rachel': 33}\n",
    "len(d)"
   ]
  },
  {
   "cell_type": "code",
   "execution_count": 7,
   "id": "b995ff24",
   "metadata": {},
   "outputs": [
    {
     "data": {
      "text/plain": [
       "25"
      ]
     },
     "execution_count": 7,
     "metadata": {},
     "output_type": "execute_result"
    }
   ],
   "source": [
    "# Q5. Given a dictionary, how can you access the value of 'age'?\n",
    "person = {'name': 'Alia', 'age': 25, 'city': 'New York'}\n",
    "person[\"age\"]"
   ]
  },
  {
   "cell_type": "code",
   "execution_count": 13,
   "id": "2b11093e",
   "metadata": {},
   "outputs": [
    {
     "name": "stdout",
     "output_type": "stream",
     "text": [
      "{'a': 1, 'b': 2, 'c': 3, 'd': 4}\n"
     ]
    }
   ],
   "source": [
    "# Q6. Write a program to merge two dictionaries into one?\n",
    "s1={'a':1,'b':2}\n",
    "s2={'c':3,'d':4}\n",
    "s1.update(s2)\n",
    "print(s1)"
   ]
  },
  {
   "cell_type": "code",
   "execution_count": 7,
   "id": "589303e3",
   "metadata": {},
   "outputs": [
    {
     "data": {
      "text/plain": [
       "{1: 'a', 2: 'b', 3: 'c', 4: 'd'}"
      ]
     },
     "execution_count": 7,
     "metadata": {},
     "output_type": "execute_result"
    }
   ],
   "source": [
    "# Q7. Write a program to swap keys and values in a given dictionary?\n",
    "s= {'a': 1, 'b': 2, 'c': 3, 'd': 4}\n",
    "d=dict(zip(s.values(),s.keys()))\n",
    "d"
   ]
  },
  {
   "cell_type": "code",
   "execution_count": 1,
   "id": "3926464a",
   "metadata": {},
   "outputs": [
    {
     "data": {
      "text/plain": [
       "{1: 1, 2: 4, 3: 9, 4: 16, 5: 25}"
      ]
     },
     "execution_count": 1,
     "metadata": {},
     "output_type": "execute_result"
    }
   ],
   "source": [
    "# Q8. Write a program to create a dictionary where the keys are numbers from 1 to 5 and the values are their squares using dictionary comprehension?\n",
    "d={x:x**2 for x in range(1,6)}\n",
    "d"
   ]
  },
  {
   "cell_type": "code",
   "execution_count": 6,
   "id": "3af8cecf",
   "metadata": {},
   "outputs": [
    {
     "name": "stdout",
     "output_type": "stream",
     "text": [
      "{1: 'a', 2: 'b', 3: 'c'}\n"
     ]
    }
   ],
   "source": [
    "# Q9. Write a program that takes two lists, one of keys and one of values, and creates a dictionary from them?\n",
    "key=[1,2,3]\n",
    "values=['a','b','c']\n",
    "d=dict(zip(key,values))\n",
    "print(d)"
   ]
  },
  {
   "cell_type": "code",
   "execution_count": 8,
   "id": "75e3ad78",
   "metadata": {},
   "outputs": [
    {
     "data": {
      "text/plain": [
       "{'even': 2, 'odd': 3, 'negative': -1, 'positive': 1}"
      ]
     },
     "execution_count": 8,
     "metadata": {},
     "output_type": "execute_result"
    }
   ],
   "source": [
    "# Q10. Write a program that takes a list of tuples and creates a dictionary from them?\n",
    "\n",
    "l = [(\"even\", 2), (\"odd\", 3), (\"negative\", -1), (\"positive\", +1)]\n",
    "dict(l)"
   ]
  },
  {
   "cell_type": "code",
   "execution_count": null,
   "id": "290106ed",
   "metadata": {},
   "outputs": [],
   "source": [
    "# Q11. Write a program that sorts a dictionary {'a': 3, 'b': 1, 'c': 2} by its values?\n",
    "\n",
    "d={'a': 3, 'b': 1, 'c': 2}"
   ]
  },
  {
   "cell_type": "code",
   "execution_count": 9,
   "id": "b5d722e7",
   "metadata": {},
   "outputs": [
    {
     "name": "stdout",
     "output_type": "stream",
     "text": [
      "{'name': 'venkat', 'education': 'B-Tech', 'university': 'Parul', 'city': 'Mumbai'}\n"
     ]
    }
   ],
   "source": [
    "# Q12. In the given list of tuples, convert it to dictionary and change value of city to Mumbai?\n",
    "\n",
    "list = [(\"name\", \"venkat\"), (\"education\", \"B-Tech\"), (\"university\", \"Parul\"), (\"city\", \"jalandhar\")]\n",
    "d=dict(list)\n",
    "d['city']='Mumbai'\n",
    "print(d)"
   ]
  },
  {
   "cell_type": "code",
   "execution_count": 21,
   "id": "acb6a6fd",
   "metadata": {},
   "outputs": [],
   "source": [
    "# Q13. From the given dictionary {\"a\":2, \"b\":4, \"c\":6, \"d\":8}, extract second item?\n",
    "d = {\"a\": 2, \"b\": 4, \"c\": 6, \"d\": 8}\n"
   ]
  },
  {
   "cell_type": "code",
   "execution_count": 24,
   "id": "0bce225a",
   "metadata": {},
   "outputs": [
    {
     "name": "stdout",
     "output_type": "stream",
     "text": [
      "dict_keys(['a', 'b', 'c', 'd'])\n",
      "dict_values([2, 4, 6, 8])\n"
     ]
    }
   ],
   "source": [
    "# Q14. Write a program that retrieves all keys and values from a given dictionary?\n",
    "d = {\"a\": 2, \"b\": 4, \"c\": 6, \"d\": 8}\n",
    "print(d.keys())\n",
    "print(d.values())"
   ]
  },
  {
   "cell_type": "code",
   "execution_count": 29,
   "id": "ef152134",
   "metadata": {},
   "outputs": [
    {
     "name": "stdout",
     "output_type": "stream",
     "text": [
      "{'a': 2, 'c': 6, 'd': 8}\n"
     ]
    }
   ],
   "source": [
    "# Q15. Write a Python program that removes a specified key from a dictionary and prints the updated dictionary?\n",
    "d = {\"a\": 2, \"b\": 4, \"c\": 6, \"d\": 8}\n",
    "d.pop('b')\n",
    "print(d)\n"
   ]
  },
  {
   "cell_type": "code",
   "execution_count": 32,
   "id": "3443d426",
   "metadata": {},
   "outputs": [
    {
     "name": "stdout",
     "output_type": "stream",
     "text": [
      "{'name': 'Alice', 'age': 25, 'food': 'mutton'}\n",
      "{'name': 'Alice', 'age': 25, 'food': 'mutton', 'job': 'Developer'}\n"
     ]
    }
   ],
   "source": [
    "# Q16. Write a Python program that creates a copy of a given dictionary using the copy() method and modifies the copy without affecting the original dictionary?\n",
    "\n",
    "a = {'name': 'Alice', 'age': 25, 'food': 'mutton'}\n",
    "b = a.copy()\n",
    "b.update({'job':'Developer'})\n",
    "print(a)\n",
    "print(b)"
   ]
  },
  {
   "cell_type": "code",
   "execution_count": null,
   "id": "04262e31",
   "metadata": {},
   "outputs": [],
   "source": [
    "# Q17. Write a program that sorts a dictionary by its keys and prints the sorted dictionary?\n",
    "\n",
    "my_dict = {'b': 3, 'a': 1, 'c': 2}"
   ]
  },
  {
   "cell_type": "code",
   "execution_count": 35,
   "id": "319abb8b",
   "metadata": {},
   "outputs": [
    {
     "data": {
      "text/plain": [
       "'c'"
      ]
     },
     "execution_count": 35,
     "metadata": {},
     "output_type": "execute_result"
    }
   ],
   "source": [
    "# Q18. Write a Python program that finds the maximum value in a dictionary and returns the corresponding key?\n",
    "\n",
    "my_dict = {'a': 5, 'b': 2, 'c': 8}\n",
    "max(my_dict)\n"
   ]
  },
  {
   "cell_type": "code",
   "execution_count": 36,
   "id": "1b6b39ef",
   "metadata": {},
   "outputs": [
    {
     "data": {
      "text/plain": [
       "'a'"
      ]
     },
     "execution_count": 36,
     "metadata": {},
     "output_type": "execute_result"
    }
   ],
   "source": [
    "# Q19. Write a Python program that finds the minimum value in a dictionary and returns the corresponding key?\n",
    "\n",
    "my_dict = {'a': 5, 'b': 2, 'c': 8}\n",
    "min(my_dict)"
   ]
  },
  {
   "cell_type": "code",
   "execution_count": 38,
   "id": "787ff30e",
   "metadata": {},
   "outputs": [
    {
     "data": {
      "text/plain": [
       "3"
      ]
     },
     "execution_count": 38,
     "metadata": {},
     "output_type": "execute_result"
    }
   ],
   "source": [
    "#Q20. Write a program that returns the number of key-value pairs in a given dictionary?\n",
    "\n",
    "my_dict = {'name': 'Alice', 'age': 25, 'city': 'Wonderland'}\n",
    "len(my_dict)"
   ]
  },
  {
   "cell_type": "code",
   "execution_count": null,
   "id": "c11da209",
   "metadata": {},
   "outputs": [],
   "source": [
    "# Q21. Write a program that uses get() method to return a default value if a key is not found.\n",
    "\n",
    "my_dict = {\"name\": \"Frank\", \"age\": 40}, key = \"country\"\n"
   ]
  }
 ],
 "metadata": {
  "kernelspec": {
   "display_name": "Python 3",
   "language": "python",
   "name": "python3"
  },
  "language_info": {
   "codemirror_mode": {
    "name": "ipython",
    "version": 3
   },
   "file_extension": ".py",
   "mimetype": "text/x-python",
   "name": "python",
   "nbconvert_exporter": "python",
   "pygments_lexer": "ipython3",
   "version": "3.10.16"
  }
 },
 "nbformat": 4,
 "nbformat_minor": 5
}
