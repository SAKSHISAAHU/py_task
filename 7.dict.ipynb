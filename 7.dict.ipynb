{
 "cells": [
  {
   "cell_type": "code",
   "execution_count": 2,
   "id": "ef8491d5",
   "metadata": {},
   "outputs": [
    {
     "name": "stdout",
     "output_type": "stream",
     "text": [
      "{'sam': 22, 'jack': 40, 'rachel': 33}\n"
     ]
    }
   ],
   "source": [
    "# Q1. Write a program to create a dictionary that contains names as keys and ages as values?\n",
    "d={\"sam\":22, \"jack\":40, \"rachel\":33}\n",
    "print(d)"
   ]
  },
  {
   "cell_type": "code",
   "execution_count": 3,
   "id": "33974082",
   "metadata": {},
   "outputs": [
    {
     "name": "stdout",
     "output_type": "stream",
     "text": [
      "{'sam': 22, 'jack': 40, 'rachel': 33, 'apek': 18}\n"
     ]
    }
   ],
   "source": [
    "# Q2. Write a program to add a new key-value pair to an existing dictionary?\n",
    "d={\"sam\":22, \"jack\":40, \"rachel\":33}\n",
    "d.update({\"apek\":18})\n",
    "print(d)"
   ]
  },
  {
   "cell_type": "code",
   "execution_count": null,
   "id": "3a088446",
   "metadata": {},
   "outputs": [
    {
     "name": "stdout",
     "output_type": "stream",
     "text": [
      "{'jack': 40, 'rachel': 33}\n"
     ]
    }
   ],
   "source": [
    "#Q3. Write a program that removes a key-value pair from a dictionary?\n",
    "d={\"sam\":22, \"jack\":40, \"rachel\":33}\n",
    "d.pop(\"sam\")\n",
    "print(d)"
   ]
  },
  {
   "cell_type": "code",
   "execution_count": 5,
   "id": "b6caf6fc",
   "metadata": {},
   "outputs": [
    {
     "data": {
      "text/plain": [
       "2"
      ]
     },
     "execution_count": 5,
     "metadata": {},
     "output_type": "execute_result"
    }
   ],
   "source": [
    "# Q4. Write a program to find the number of key-value pairs in a dictionary?\n",
    "d={'jack': 40, 'rachel': 33}\n",
    "len(d)"
   ]
  },
  {
   "cell_type": "code",
   "execution_count": 7,
   "id": "b995ff24",
   "metadata": {},
   "outputs": [
    {
     "data": {
      "text/plain": [
       "25"
      ]
     },
     "execution_count": 7,
     "metadata": {},
     "output_type": "execute_result"
    }
   ],
   "source": [
    "# Q5. Given a dictionary, how can you access the value of 'age'?\n",
    "person = {'name': 'Alia', 'age': 25, 'city': 'New York'}\n",
    "person[\"age\"]"
   ]
  },
  {
   "cell_type": "code",
   "execution_count": 13,
   "id": "2b11093e",
   "metadata": {},
   "outputs": [
    {
     "name": "stdout",
     "output_type": "stream",
     "text": [
      "{'a': 1, 'b': 2, 'c': 3, 'd': 4}\n"
     ]
    }
   ],
   "source": [
    "# Q6. Write a program to merge two dictionaries into one?\n",
    "s1={'a':1,'b':2}\n",
    "s2={'c':3,'d':4}\n",
    "s1.update(s2)\n",
    "print(s1)"
   ]
  },
  {
   "cell_type": "code",
   "execution_count": null,
   "id": "589303e3",
   "metadata": {},
   "outputs": [],
   "source": [
    "# Q7. Write a program to swap keys and values in a given dictionary?\n",
    "s= {'a': 1, 'b': 2, 'c': 3, 'd': 4}"
   ]
  },
  {
   "cell_type": "code",
   "execution_count": null,
   "id": "3926464a",
   "metadata": {},
   "outputs": [],
   "source": [
    "# "
   ]
  }
 ],
 "metadata": {
  "kernelspec": {
   "display_name": "Python 3",
   "language": "python",
   "name": "python3"
  },
  "language_info": {
   "codemirror_mode": {
    "name": "ipython",
    "version": 3
   },
   "file_extension": ".py",
   "mimetype": "text/x-python",
   "name": "python",
   "nbconvert_exporter": "python",
   "pygments_lexer": "ipython3",
   "version": "3.10.16"
  }
 },
 "nbformat": 4,
 "nbformat_minor": 5
}
